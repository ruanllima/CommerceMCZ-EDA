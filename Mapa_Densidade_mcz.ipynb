{
  "cells": [
    {
      "cell_type": "code",
      "execution_count": null,
      "metadata": {
        "id": "SRY5FNrZoV6N",
        "colab": {
          "base_uri": "https://localhost:8080/"
        },
        "outputId": "abc18567-71c6-4463-87d8-652e2ab7c47e"
      },
      "outputs": [
        {
          "output_type": "stream",
          "name": "stdout",
          "text": [
            "Requirement already satisfied: geopandas in /usr/local/lib/python3.10/dist-packages (0.13.2)\n",
            "Requirement already satisfied: fiona>=1.8.19 in /usr/local/lib/python3.10/dist-packages (from geopandas) (1.9.5)\n",
            "Requirement already satisfied: packaging in /usr/local/lib/python3.10/dist-packages (from geopandas) (23.2)\n",
            "Requirement already satisfied: pandas>=1.1.0 in /usr/local/lib/python3.10/dist-packages (from geopandas) (1.5.3)\n",
            "Requirement already satisfied: pyproj>=3.0.1 in /usr/local/lib/python3.10/dist-packages (from geopandas) (3.6.1)\n",
            "Requirement already satisfied: shapely>=1.7.1 in /usr/local/lib/python3.10/dist-packages (from geopandas) (2.0.3)\n",
            "Requirement already satisfied: attrs>=19.2.0 in /usr/local/lib/python3.10/dist-packages (from fiona>=1.8.19->geopandas) (23.2.0)\n",
            "Requirement already satisfied: certifi in /usr/local/lib/python3.10/dist-packages (from fiona>=1.8.19->geopandas) (2024.2.2)\n",
            "Requirement already satisfied: click~=8.0 in /usr/local/lib/python3.10/dist-packages (from fiona>=1.8.19->geopandas) (8.1.7)\n",
            "Requirement already satisfied: click-plugins>=1.0 in /usr/local/lib/python3.10/dist-packages (from fiona>=1.8.19->geopandas) (1.1.1)\n",
            "Requirement already satisfied: cligj>=0.5 in /usr/local/lib/python3.10/dist-packages (from fiona>=1.8.19->geopandas) (0.7.2)\n",
            "Requirement already satisfied: six in /usr/local/lib/python3.10/dist-packages (from fiona>=1.8.19->geopandas) (1.16.0)\n",
            "Requirement already satisfied: setuptools in /usr/local/lib/python3.10/dist-packages (from fiona>=1.8.19->geopandas) (67.7.2)\n",
            "Requirement already satisfied: python-dateutil>=2.8.1 in /usr/local/lib/python3.10/dist-packages (from pandas>=1.1.0->geopandas) (2.8.2)\n",
            "Requirement already satisfied: pytz>=2020.1 in /usr/local/lib/python3.10/dist-packages (from pandas>=1.1.0->geopandas) (2023.4)\n",
            "Requirement already satisfied: numpy>=1.21.0 in /usr/local/lib/python3.10/dist-packages (from pandas>=1.1.0->geopandas) (1.25.2)\n"
          ]
        }
      ],
      "source": [
        "!pip install geopandas"
      ]
    },
    {
      "cell_type": "code",
      "execution_count": null,
      "metadata": {
        "id": "4XJ6ko04spEi"
      },
      "outputs": [],
      "source": [
        "import folium\n",
        "from folium.plugins import HeatMap\n",
        "from folium.plugins import FastMarkerCluster\n",
        "import pandas as pd\n",
        "import seaborn as sns"
      ]
    },
    {
      "cell_type": "code",
      "execution_count": null,
      "metadata": {
        "id": "hCVb_XDYp3Tc",
        "colab": {
          "base_uri": "https://localhost:8080/"
        },
        "outputId": "6967d5fd-31e4-45af-fd57-d75edf4ed502"
      },
      "outputs": [
        {
          "output_type": "stream",
          "name": "stderr",
          "text": [
            "<ipython-input-3-10694c6b5367>:20: UserWarning: Geometry is in a geographic CRS. Results from 'centroid' are likely incorrect. Use 'GeoSeries.to_crs()' to re-project geometries to a projected CRS before this operation.\n",
            "\n",
            "  df_bairros[\"lon\"] = df_bairros[\"geometry\"].centroid.x\n",
            "<ipython-input-3-10694c6b5367>:21: UserWarning: Geometry is in a geographic CRS. Results from 'centroid' are likely incorrect. Use 'GeoSeries.to_crs()' to re-project geometries to a projected CRS before this operation.\n",
            "\n",
            "  df_bairros[\"lat\"] = df_bairros[\"geometry\"].centroid.y\n"
          ]
        }
      ],
      "source": [
        "# Lê a base de dados\n",
        "\n",
        "import geopandas as gpd\n",
        "import urllib.request\n",
        "\n",
        "# URL do arquivo GeoJSON no Dropbox\n",
        "url = \"https://www.dropbox.com/s/ii83lo2nzc0vuun/bairros.geojson?dl=1\"\n",
        "\n",
        "# Nome do arquivo local para salvar o GeoJSON\n",
        "arquivo_local = \"bairros.geojson\"\n",
        "\n",
        "# Baixa o arquivo GeoJSON do Dropbox\n",
        "urllib.request.urlretrieve(url, arquivo_local)\n",
        "\n",
        "# Carrega o arquivo GeoJSON com o geopandas\n",
        "df_bairros = gpd.read_file(arquivo_local)\n",
        "\n",
        "df_bairros.head(2)\n",
        "\n",
        "df_bairros[\"lon\"] = df_bairros[\"geometry\"].centroid.x\n",
        "df_bairros[\"lat\"] = df_bairros[\"geometry\"].centroid.y\n"
      ]
    },
    {
      "cell_type": "code",
      "execution_count": null,
      "metadata": {
        "id": "aSgbAki097IO"
      },
      "outputs": [],
      "source": [
        "# Lista de bairros\n",
        "bairros_f = ['Jacintinho', 'Chã da Jaqueira', 'Bom Parto', 'Vergel do Lago', 'Ponta Grossa', 'Trapiche da Barra',\n",
        "           'Jatiúca', 'Levada', 'Clima Bom', 'Prado', 'Feitosa', 'Ouro Preto', 'Poço', 'Pinheiro', 'Ponta Verde',\n",
        "           'Canaã', 'Chã de Bebedouro', 'Tabuleiro do Martins', 'Santo Amaro', 'Santa Lúcia', 'Barro Duro', 'Farol',\n",
        "           'Cruz das Almas', 'Mangabeiras', 'Petrópolis', 'Mutange', 'Pitanguinha', 'Bebedouro', 'Santa Amélia',\n",
        "           'Gruta de Lourdes', 'São Jorge', 'Benedito Bentes', 'Cidade Universitária', 'Serraria', 'Santos Dumont',\n",
        "           'Antares', 'Rio Novo', 'Jaraguá', 'Fernão Velho', 'Ponta da Terra', 'Jardim Petrópolis', 'Pontal da Barra',\n",
        "           'Centro', 'Jacarecica', 'Garça Torta', 'Pescaria', 'Pajuçara', 'Riacho Doce', 'Guaxumã', 'Ipioca']"
      ]
    },
    {
      "cell_type": "code",
      "execution_count": null,
      "metadata": {
        "id": "JWB1ExzI_ac-"
      },
      "outputs": [],
      "source": [
        "# Filtra do dataframe apenas os bairros de Maceió\n",
        "\n",
        "url = 'https://www.dropbox.com/s/ii83lo2nzc0vuun/bairros.geojson?dl=1'\n",
        "df = pd.read_json(url)\n",
        "\n",
        "\n",
        "df_bairros = df_bairros[df_bairros['Bairro'].isin(bairros_f)]"
      ]
    },
    {
      "cell_type": "code",
      "execution_count": null,
      "metadata": {
        "id": "Wm8bPxHK5c3c"
      },
      "outputs": [],
      "source": [
        "# Lê a base de dados de densidade demográfica\n",
        "\n",
        "url = 'https://docs.google.com/spreadsheets/d/1kAsPjy2EgTOv5wKkDFHhBsl2OQpHp5KwlZ95sjC59Dw/export?format=csv'\n",
        "\n",
        "dados_dens = pd.read_csv(url, index_col=0, decimal=',', usecols=['Bairro', 'Densidade Demográfica'])\n"
      ]
    },
    {
      "cell_type": "code",
      "execution_count": null,
      "metadata": {
        "id": "2yFj6hVezB1j"
      },
      "outputs": [],
      "source": [
        "# Cria um novo dataframe com a densidade demográfica e os bairros\n",
        "\n",
        "df_mcz = pd.merge(df_bairros, dados_dens, on = \"Bairro\")\n"
      ]
    },
    {
      "cell_type": "code",
      "execution_count": null,
      "metadata": {
        "id": "UtsPb325q1Rs"
      },
      "outputs": [],
      "source": [
        "# Exclui colunas desnecessárias no dataframe\n",
        "\n",
        "excluir = ['População Feminina', 'População 2010', 'População Masculina']\n",
        "df = pd.DataFrame(df_mcz)\n",
        "for i in excluir:\n",
        "    df_mcz = df.drop(i, axis=1)\n",
        "    df = df_mcz\n"
      ]
    },
    {
      "cell_type": "code",
      "execution_count": null,
      "metadata": {
        "id": "mQOvpWaf4GCD"
      },
      "outputs": [],
      "source": [
        "# Tratamento dos dados do dataframe\n",
        "\n",
        "coordenadas = df_mcz[['lat','lon','Densidade Demográfica']]\n",
        "\n",
        "def convert(value: str | float) -> float:\n",
        "  if type(value) == str:\n",
        "    return float(value.replace(\".\", \"\").replace(\",\", \".\"))\n",
        "\n",
        "  return value\n",
        "\n",
        "coordenadas = [list(map(convert, coord)) for coord in coordenadas.values.tolist()]"
      ]
    },
    {
      "cell_type": "code",
      "execution_count": null,
      "metadata": {
        "id": "XK1CmyHetEoJ"
      },
      "outputs": [],
      "source": [
        "# Cria o mapa e o HeatMap\n",
        "\n",
        "mapa_mcz = folium.Map(\n",
        "    location=[-9.6037857,-35.7013138],\n",
        "    zoom_start=12)\n",
        "\n",
        "mapa_mcz = mapa_mcz.add_child(HeatMap(coordenadas))"
      ]
    },
    {
      "cell_type": "code",
      "execution_count": null,
      "metadata": {
        "id": "-Uibm4wx40JY",
        "colab": {
          "base_uri": "https://localhost:8080/",
          "height": 832
        },
        "outputId": "d3c0380e-829b-4a53-c146-3a8db1d60df6"
      },
      "outputs": [
        {
          "output_type": "execute_result",
          "data": {
            "text/plain": [
              "<folium.folium.Map at 0x7ec08d97bd30>"
            ],
            "text/html": [
              "<div style=\"width:100%;\"><div style=\"position:relative;width:100%;height:0;padding-bottom:60%;\"><span style=\"color:#565656\">Make this Notebook Trusted to load map: File -> Trust Notebook</span><iframe srcdoc=\"&lt;!DOCTYPE html&gt;\n",
              "&lt;html&gt;\n",
              "&lt;head&gt;\n",
              "    \n",
              "    &lt;meta http-equiv=&quot;content-type&quot; content=&quot;text/html; charset=UTF-8&quot; /&gt;\n",
              "    \n",
              "        &lt;script&gt;\n",
              "            L_NO_TOUCH = false;\n",
              "            L_DISABLE_3D = false;\n",
              "        &lt;/script&gt;\n",
              "    \n",
              "    &lt;style&gt;html, body {width: 100%;height: 100%;margin: 0;padding: 0;}&lt;/style&gt;\n",
              "    &lt;style&gt;#map {position:absolute;top:0;bottom:0;right:0;left:0;}&lt;/style&gt;\n",
              "    &lt;script src=&quot;https://cdn.jsdelivr.net/npm/leaflet@1.9.3/dist/leaflet.js&quot;&gt;&lt;/script&gt;\n",
              "    &lt;script src=&quot;https://code.jquery.com/jquery-1.12.4.min.js&quot;&gt;&lt;/script&gt;\n",
              "    &lt;script src=&quot;https://cdn.jsdelivr.net/npm/bootstrap@5.2.2/dist/js/bootstrap.bundle.min.js&quot;&gt;&lt;/script&gt;\n",
              "    &lt;script src=&quot;https://cdnjs.cloudflare.com/ajax/libs/Leaflet.awesome-markers/2.0.2/leaflet.awesome-markers.js&quot;&gt;&lt;/script&gt;\n",
              "    &lt;link rel=&quot;stylesheet&quot; href=&quot;https://cdn.jsdelivr.net/npm/leaflet@1.9.3/dist/leaflet.css&quot;/&gt;\n",
              "    &lt;link rel=&quot;stylesheet&quot; href=&quot;https://cdn.jsdelivr.net/npm/bootstrap@5.2.2/dist/css/bootstrap.min.css&quot;/&gt;\n",
              "    &lt;link rel=&quot;stylesheet&quot; href=&quot;https://netdna.bootstrapcdn.com/bootstrap/3.0.0/css/bootstrap.min.css&quot;/&gt;\n",
              "    &lt;link rel=&quot;stylesheet&quot; href=&quot;https://cdn.jsdelivr.net/npm/@fortawesome/fontawesome-free@6.2.0/css/all.min.css&quot;/&gt;\n",
              "    &lt;link rel=&quot;stylesheet&quot; href=&quot;https://cdnjs.cloudflare.com/ajax/libs/Leaflet.awesome-markers/2.0.2/leaflet.awesome-markers.css&quot;/&gt;\n",
              "    &lt;link rel=&quot;stylesheet&quot; href=&quot;https://cdn.jsdelivr.net/gh/python-visualization/folium/folium/templates/leaflet.awesome.rotate.min.css&quot;/&gt;\n",
              "    \n",
              "            &lt;meta name=&quot;viewport&quot; content=&quot;width=device-width,\n",
              "                initial-scale=1.0, maximum-scale=1.0, user-scalable=no&quot; /&gt;\n",
              "            &lt;style&gt;\n",
              "                #map_f001f9c8d5a0134ba3a85297e78df8e1 {\n",
              "                    position: relative;\n",
              "                    width: 100.0%;\n",
              "                    height: 100.0%;\n",
              "                    left: 0.0%;\n",
              "                    top: 0.0%;\n",
              "                }\n",
              "                .leaflet-container { font-size: 1rem; }\n",
              "            &lt;/style&gt;\n",
              "        \n",
              "    &lt;script src=&quot;https://cdn.jsdelivr.net/gh/python-visualization/folium@main/folium/templates/leaflet_heat.min.js&quot;&gt;&lt;/script&gt;\n",
              "&lt;/head&gt;\n",
              "&lt;body&gt;\n",
              "    \n",
              "    \n",
              "            &lt;div class=&quot;folium-map&quot; id=&quot;map_f001f9c8d5a0134ba3a85297e78df8e1&quot; &gt;&lt;/div&gt;\n",
              "        \n",
              "&lt;/body&gt;\n",
              "&lt;script&gt;\n",
              "    \n",
              "    \n",
              "            var map_f001f9c8d5a0134ba3a85297e78df8e1 = L.map(\n",
              "                &quot;map_f001f9c8d5a0134ba3a85297e78df8e1&quot;,\n",
              "                {\n",
              "                    center: [-9.6037857, -35.7013138],\n",
              "                    crs: L.CRS.EPSG3857,\n",
              "                    zoom: 12,\n",
              "                    zoomControl: true,\n",
              "                    preferCanvas: false,\n",
              "                }\n",
              "            );\n",
              "\n",
              "            \n",
              "\n",
              "        \n",
              "    \n",
              "            var tile_layer_ac228782903a8c2cd082190ac6c84fee = L.tileLayer(\n",
              "                &quot;https://{s}.tile.openstreetmap.org/{z}/{x}/{y}.png&quot;,\n",
              "                {&quot;attribution&quot;: &quot;Data by \\u0026copy; \\u003ca target=\\&quot;_blank\\&quot; href=\\&quot;http://openstreetmap.org\\&quot;\\u003eOpenStreetMap\\u003c/a\\u003e, under \\u003ca target=\\&quot;_blank\\&quot; href=\\&quot;http://www.openstreetmap.org/copyright\\&quot;\\u003eODbL\\u003c/a\\u003e.&quot;, &quot;detectRetina&quot;: false, &quot;maxNativeZoom&quot;: 18, &quot;maxZoom&quot;: 18, &quot;minZoom&quot;: 0, &quot;noWrap&quot;: false, &quot;opacity&quot;: 1, &quot;subdomains&quot;: &quot;abc&quot;, &quot;tms&quot;: false}\n",
              "            ).addTo(map_f001f9c8d5a0134ba3a85297e78df8e1);\n",
              "        \n",
              "    \n",
              "            var heat_map_bbaea05c0f3798c3d847aa60dab60aef = L.heatLayer(\n",
              "                [[-9.559718367148223, -35.71534385193948, 3577.74], [-9.639340644063099, -35.74735715259378, 4874.07], [-9.617336723915493, -35.71955068993801, 6012.92], [-9.668490093449165, -35.714906767078716, 565.7], [-9.541208114352198, -35.62792914060285, 708.4], [-9.669533183226159, -35.749792724753746, 11921.48], [-9.63230753532152, -35.74222963945156, 9725.51], [-9.635778974567222, -35.73278426543052, 4741.58], [-9.56241115098205, -35.65581774489815, 517.15], [-9.608722801142818, -35.74247143319183, 7440.15], [-9.5827419522661, -35.752453667164716, 6482.84], [-9.573311525510773, -35.76315288552777, 7618.24], [-9.55555958948369, -35.79450964641646, 2891.38], [-9.617084260983752, -35.704054986731705, 3787.0], [-9.671780888716615, -35.760304766081724, 14458.86], [-9.654653195412774, -35.75900281611359, 18551.76], [-9.650699692255651, -35.74378161508731, 22930.36], [-9.604714668267608, -35.738322083098026, 8815.79], [-9.66423059764737, -35.715243046864856, 1981.84], [-9.57882978802553, -35.806097494350624, 2655.29], [-9.616764725084712, -35.74844641792239, 23404.23], [-9.619272776431304, -35.757360447747054, 8171.32], [-9.66104391687833, -35.75689740521817, 17028.13], [-9.541672688413394, -35.768979700175876, 3505.45], [-9.574647299090115, -35.78716489796044, 12006.87], [-9.630552597953788, -35.70209946107371, 5226.79], [-9.595880369579481, -35.77474977784868, 4531.49], [-9.650742033948834, -35.73533214524373, 5601.0], [-9.601368977932994, -35.718530213872924, 3003.31], [-9.632705490888366, -35.722751616241254, 11667.69], [-9.590256693269028, -35.78496155916186, 2162.41], [-9.579345508701296, -35.67085704481134, 838.46], [-9.618602890348386, -35.73544518611612, 4477.43], [-9.575725662583828, -35.736847395057566, 2860.83], [-9.660429201324654, -35.70296137793406, 9037.78], [-9.506602382830438, -35.593157322998856, 378.24], [-9.598677456571364, -35.69559209140394, 1772.22], [-9.642043816387291, -35.71883582594104, 23573.3], [-9.673921430075882, -35.723389444884695, 2470.0], [-9.619702963949747, -35.76045292346899, 4592.27], [-9.59599941298765, -35.74201475271752, 1903.0], [-9.691924638411102, -35.77427056327746, 1795.65], [-9.649501388913084, -35.70689100232048, 13112.76], [-9.659290002140716, -35.745180561386015, 12508.05], [-9.646742493554965, -35.714118354542926, 5143.21]],\n",
              "                {&quot;blur&quot;: 15, &quot;maxZoom&quot;: 18, &quot;minOpacity&quot;: 0.5, &quot;radius&quot;: 25}\n",
              "            ).addTo(map_f001f9c8d5a0134ba3a85297e78df8e1);\n",
              "        \n",
              "&lt;/script&gt;\n",
              "&lt;/html&gt;\" style=\"position:absolute;width:100%;height:100%;left:0;top:0;border:none !important;\" allowfullscreen webkitallowfullscreen mozallowfullscreen></iframe></div></div>"
            ]
          },
          "metadata": {},
          "execution_count": 11
        }
      ],
      "source": [
        "mapa_mcz"
      ]
    }
  ],
  "metadata": {
    "colab": {
      "provenance": []
    },
    "kernelspec": {
      "display_name": "Python 3",
      "name": "python3"
    },
    "language_info": {
      "name": "python"
    }
  },
  "nbformat": 4,
  "nbformat_minor": 0
}